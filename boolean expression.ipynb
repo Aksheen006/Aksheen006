{
 "cells": [
  {
   "cell_type": "code",
   "execution_count": 3,
   "metadata": {},
   "outputs": [
    {
     "ename": "IndentationError",
     "evalue": "unindent does not match any outer indentation level (<tokenize>, line 5)",
     "output_type": "error",
     "traceback": [
      "\u001b[0;36m  File \u001b[0;32m<tokenize>:5\u001b[0;36m\u001b[0m\n\u001b[0;31m    else:\u001b[0m\n\u001b[0m    ^\u001b[0m\n\u001b[0;31mIndentationError\u001b[0m\u001b[0;31m:\u001b[0m unindent does not match any outer indentation level\n"
     ]
    }
   ],
   "source": [
    "if a: \n",
    "    print(\"hello world\")      #if true\n",
    "    \n",
    "\n",
    " else:\n",
    "    print(\"no\")       #if false\n",
    "          "
   ]
  },
  {
   "cell_type": "code",
   "execution_count": null,
   "metadata": {},
   "outputs": [
    {
     "name": "stdout",
     "output_type": "stream",
     "text": [
      "false\n"
     ]
    }
   ],
   "source": [
    "a= 2\n",
    "if a!=2:\n",
    "    print(\"true\")\n",
    "else :\n",
    "    print(\"false\")\n",
    "     \n",
    "\n",
    "     \n"
   ]
  },
  {
   "cell_type": "code",
   "execution_count": null,
   "metadata": {},
   "outputs": [],
   "source": [
    "y=5\n",
    "x=int(input(\"enter the value of x: \" ))\n",
    "if y>0:\n",
    "    print(\"value of x\" , x)\n",
    "else:\n",
    "    print(\"no\")\n",
    "# IF STATEMENT THAT ASSIGNS 1 TO X IF Y IS GREATER THAN 0"
   ]
  },
  {
   "cell_type": "markdown",
   "metadata": {},
   "source": [
    "INPUT A NUMBER AND CHECK EVEN OR ODDS \n",
    "INPUT 2 NUMBER AND CHECK IF FIRST NUMBER IS MULTIPLE OF 2ND"
   ]
  },
  {
   "cell_type": "code",
   "execution_count": null,
   "metadata": {},
   "outputs": [],
   "source": [
    "day=int(input(\"enter day number\")\n",
    "if day==1:\n",
    "    print(\"monday\")\n",
    "    elif day==2\n",
    "    print(\"tuesday\")\n",
    "    elif day==3\n",
    "    print(\"wednesday\")\n",
    "    else:\n",
    "    print(\"false\")\n",
    "    \n",
    "\n",
    "\n"
   ]
  },
  {
   "cell_type": "code",
   "execution_count": 9,
   "metadata": {},
   "outputs": [
    {
     "ename": "IndentationError",
     "evalue": "unindent does not match any outer indentation level (<tokenize>, line 5)",
     "output_type": "error",
     "traceback": [
      "\u001b[0;36m  File \u001b[0;32m<tokenize>:5\u001b[0;36m\u001b[0m\n\u001b[0;31m    else:\u001b[0m\n\u001b[0m    ^\u001b[0m\n\u001b[0;31mIndentationError\u001b[0m\u001b[0;31m:\u001b[0m unindent does not match any outer indentation level\n"
     ]
    },
    {
     "ename": "SyntaxError",
     "evalue": "invalid syntax (757773324.py, line 1)",
     "output_type": "error",
     "traceback": [
      "\u001b[0;36m  Input \u001b[0;32mIn [9]\u001b[0;36m\u001b[0m\n\u001b[0;31m    print(2>1 and print 2>0)\u001b[0m\n\u001b[0m                        ^\u001b[0m\n\u001b[0;31mSyntaxError\u001b[0m\u001b[0;31m:\u001b[0m invalid syntax\n"
     ]
    }
   ],
   "source": [
    "print(2>1 and print 2>0) .      True\n",
    "print(2>3 and 2>0) .         false\n",
    "print(2>3 and 2>4 and 0) .      0 (by default is o)\n",
    "    \n",
    "\n",
    "print(2>3 or 2<3) .       true ( either one )\n",
    "\n",
    "print(2>1 or 2>3 and 2>3) .    right to left evaluate in multiple\n",
    "\n",
    "\n",
    "a= True\n",
    "print( not not a) .  false\n",
    "print ( not not not ) .   true"
   ]
  },
  {
   "cell_type": "markdown",
   "metadata": {},
   "source": [
    "get input from the user and ask if the number is even or odd using conditionl expression"
   ]
  },
  {
   "cell_type": "code",
   "execution_count": null,
   "metadata": {},
   "outputs": [],
   "source": [
    "n = int(input(\"enter a number: \"))\n",
    "if n % 2 == 0:\n",
    "    print(n , \"the number is even\")\n",
    "else:\n",
    "    print(n, \"is odd\")\n",
    "        #if else\n",
    "  \n",
    "\n",
    "  #but in conditional\n",
    "   \n",
    "n= int(input(\"enter aa number\"))\n",
    "print(n,)"
   ]
  },
  {
   "cell_type": "code",
   "execution_count": 1,
   "metadata": {},
   "outputs": [
    {
     "name": "stdout",
     "output_type": "stream",
     "text": [
      "player one first roll dice number\n",
      "player one second roll dice number\n",
      "the sum of number  4\n"
     ]
    }
   ],
   "source": [
    "import random\n",
    "print(\"player one first roll dice number\")\n",
    "print(\"player one second roll dice number\")\n",
    "a=random.randint(-5, 5)\n",
    "a1=random.randint(-5,5)\n",
    "print(\"the sum of number is\" , a+a1)\n",
    "print(\"second player roll the dice\")\n",
    "print(\"second player second roll\")\n",
    "b=random.randint(-5,5)\n",
    "b1=random.randint(-5,5)\n",
    "\n"
   ]
  },
  {
   "cell_type": "code",
   "execution_count": null,
   "metadata": {},
   "outputs": [],
   "source": [
    "import player 1, player 2\n",
    "import random\n",
    "print(\"introduce youyrself player 1 \", player1.displayprofile()) .       # game py profile codes\n",
    "print(player1.name , \"is plying\")\n",
    "p1=random.randint(-5,5)\n",
    "player1.strength = player.strength + p1\n",
    "\n"
   ]
  },
  {
   "cell_type": "code",
   "execution_count": null,
   "metadata": {},
   "outputs": [],
   "source": [
    "def displayprofile():\n",
    "    print(\"my name is \" , name)        #player1 profile codes and also for player 2 \n",
    "    print( )\n",
    "\n",
    "\n",
    "name=\"elephant\"         #player 1 intial code \n",
    "strength=\"20\"\n",
    "\n",
    "\n",
    "\n",
    "\n",
    "name=\"tiger\"           #player 2 initial code\n",
    "strength=\"40\"\n",
    "\n"
   ]
  }
 ],
 "metadata": {
  "kernelspec": {
   "display_name": "base",
   "language": "python",
   "name": "python3"
  },
  "language_info": {
   "codemirror_mode": {
    "name": "ipython",
    "version": 3
   },
   "file_extension": ".py",
   "mimetype": "text/x-python",
   "name": "python",
   "nbconvert_exporter": "python",
   "pygments_lexer": "ipython3",
   "version": "3.9.12"
  }
 },
 "nbformat": 4,
 "nbformat_minor": 2
}
